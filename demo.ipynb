{
 "cells": [
  {
   "cell_type": "code",
   "execution_count": 1,
   "id": "f21cedb7",
   "metadata": {},
   "outputs": [],
   "source": [
    "#!/usr/bin/env python\n",
    "\"\"\"\n",
    "Demo script for piboufilings library.\n",
    "This script demonstrates how to use the library to download and parse SEC filings.\n",
    "\"\"\"\n",
    "\n",
    "from piboufilings import get_filings\n",
    "import pandas as pd"
   ]
  },
  {
   "cell_type": "markdown",
   "id": "4f0730da",
   "metadata": {},
   "source": [
    "# Get `13F-HR` and `NPORT` filings from any company"
   ]
  },
  {
   "cell_type": "code",
   "execution_count": null,
   "id": "9a918436",
   "metadata": {},
   "outputs": [],
   "source": [
    "user_email = \"examplel@example.com\"  # Replace with your email\n",
    "user_name = \"Your Name\" # Replace with your name\n",
    "\n",
    "print(\"=== piboufilings Demo ===\")\n",
    "print(\"This demo shows how to download and parse SEC filings.\")\n",
    "print(\"Please replace 'your_email@example.com' with your actual email address.\")\n",
    "print(\"This is required by the SEC's fair access rules.\\n\")\n",
    "\n",
    "# Example 1: Get Berkshire Hathaway's latest 13F filing\n",
    "print(\"\\n=== Example 1: Getting Berkshire Hathaway's latest 13F filing ===\")\n",
    "berkshire_cik = \"0001067983\" #Can be obtained here https://www.sec.gov/search-filings/cik-lookup\n",
    "\n",
    "get_filings(\n",
    "    cik=None, #\n",
    "    form_type=[\"13F-HR\", \"NPORT\"],\n",
    "    start_year=2024, \n",
    "    end_year = 2025,\n",
    "    user_name = user_name,\n",
    "    user_agent_email=user_email,\n",
    ")"
   ]
  }
 ],
 "metadata": {
  "kernelspec": {
   "display_name": "sat",
   "language": "python",
   "name": "python3"
  },
  "language_info": {
   "codemirror_mode": {
    "name": "ipython",
    "version": 3
   },
   "file_extension": ".py",
   "mimetype": "text/x-python",
   "name": "python",
   "nbconvert_exporter": "python",
   "pygments_lexer": "ipython3",
   "version": "3.10.16"
  }
 },
 "nbformat": 4,
 "nbformat_minor": 5
}
